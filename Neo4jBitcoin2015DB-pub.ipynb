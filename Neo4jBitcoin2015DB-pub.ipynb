{
 "cells": [
  {
   "cell_type": "markdown",
   "metadata": {},
   "source": [
    "BitCoin in Neo4j\n",
    "------------------\n",
    "\n",
    "This notebook uploads bitcoin data from 2015 in Neo4j, and runs some queries on it."
   ]
  },
  {
   "cell_type": "markdown",
   "metadata": {},
   "source": [
    "To make sure the database is empty, the query in neo4j is:  \n",
    "\n",
    "<div style=\"background-color:rgba(128, 0, 0, 0.1); text-align:left; vertical-align: middle; padding:20px 0;\">\n",
    "MATCH (n)  \n",
    "OPTIONAL MATCH (n)-[r]-()  \n",
    "DELETE n,r  \n",
    "</div>"
   ]
  },
  {
   "cell_type": "markdown",
   "metadata": {},
   "source": [
    "The bitcoin data files should be located in /var/lib/neo4j/import for linux, and probably in /neo4j/import for other OSes (and one needs to make sure to give permission to write in this folder, e.g. with chmod 666 for linux). The data we use are text files, one for each bitcoin block, where data has already been extracted.\n",
    "Each row of the file contains \n",
    "* the transaction hash, \n",
    "* the transaction date,\n",
    "* the number of inputs, then for each input, the previous transaction hash and the input's index within the previous transaction (which gives which output of this transaction it is), \n",
    "* the number of outputs, then for each output, the wallet address, the script (e.g. p2pk means pay to public key), and the amount in bitcoins.\n",
    "\n",
    "Example:         \n",
    "4148ad6d4d1ebd29283fdf1c79fd51448db0e2b0bce23ea7596e052c2a65bb35,    \n",
    "Sat Dec 27 07:46:47 SGT 2014,      \n",
    "1,239f5df2f49b649ab2c2606c5ee70efaddb75db8613022a229c9874d35ea8074,1,   \n",
    "2,   \n",
    "1GL9XqVfj3HBzK3xDg66zmWExQWkxWkJaV,P2PK,BTC 2.69532231,   \n",
    "1NMueMBhhA1xLjy8v1G8akGLbd9fdkNjDh,P2PK,BTC 0.04   \n",
    "\n",
    "Note: 0000000000000000000000000000000000000000000000000000000000000000 as the previous transaction hash means mining (creation of a bitcoin)."
   ]
  },
  {
   "cell_type": "markdown",
   "metadata": {},
   "source": [
    "Upload\n",
    "--------\n",
    "\n",
    "We write several csv files and upload them using neo4j-import:\n",
    "* tx.csv contains a list of the transaction hashes, with the transaction time\n",
    "* out.csv contains a list of wallet addresses\n",
    "The two above files contain the nodes, two types of them. The relations are given in:\n",
    "* txtoout.csv contains the edges from transaction nodes to wallet addresses\n",
    "* intotx.csv contains the edges from wallet address to transaction nodes\n",
    "\n",
    "Reference: https://neo4j.com/docs/operations-manual/current/tutorial/import-tool/\n",
    "\n",
    "The code below generates the csv files together with some stats, make sure writecsv = 1 (use 0 to just generate stats)."
   ]
  },
  {
   "cell_type": "code",
   "execution_count": 4,
   "metadata": {},
   "outputs": [
    {
     "name": "stdout",
     "output_type": "stream",
     "text": [
      "block:\n",
      "322\n",
      "116.74694991111755\n"
     ]
    }
   ],
   "source": [
    "import csv\n",
    "import numpy as np\n",
    "import time\n",
    "import datetime\n",
    "\n",
    "txnb = 0\n",
    "totalamount = 0\n",
    "multinb = 0\n",
    "perday = {}\n",
    "cnt = 0\n",
    "\n",
    "#if 1, write csv, if 0, only compute statistics\n",
    "writecsv = 1\n",
    "\n",
    "#to create a histogram of amounts\n",
    "mybins = [0,0.05,0.1,0.15,0.2,0.3,0.4,0.5,0.6,0.8,1,1.5,2,3,4,5,6,4000,10000]\n",
    "myhist = np.zeros(len(mybins)-1, dtype='int32')\n",
    "#create a calendar for time conversion\n",
    "cal = {'Jan':'01','Feb':'02','Mar':'03','Apr':'04','May':'05','Jun':'06','Jul':'07','Aug':'08','Sep':'09','Oct':'10','Nov':'11','Dec':'12'}\n",
    "\n",
    "if writecsv == 1:\n",
    "    #creates header files\n",
    "    with open('/var/lib/neo4j/import/headers_tx.csv', 'w+') as headerfile1:\n",
    "        headerfile1.write(\"txhash:ID,txdate:float,:LABEL\")\n",
    "    with open('/var/lib/neo4j/import/headers_out.csv', 'w+') as headerfile2:\n",
    "        headerfile2.write(\"outid:ID,addr,:LABEL\")\n",
    "    with open('/var/lib/neo4j/import/headers_txtoout.csv', 'w+') as headerfile3:\n",
    "        headerfile3.write(\":START_ID,amount:float,:END_ID,:TYPE\") \n",
    "    with open('/var/lib/neo4j/import/headers_intotx.csv', 'w+') as headerfile4:\n",
    "        headerfile4.write(\":START_ID,:END_ID,:TYPE\")\n",
    "\n",
    "    #creates files\n",
    "    filetx = open('/var/lib/neo4j/import/tx.csv', 'w+')\n",
    "    writertx = csv.writer(filetx)\n",
    "    fileout = open('/var/lib/neo4j/import/out.csv', 'w+')\n",
    "    writerout = csv.writer(fileout)\n",
    "    filetoout = open('/var/lib/neo4j/import/txtoout.csv', 'w+')\n",
    "    writertoout = csv.writer(filetoout)\n",
    "    filefromin = open('/var/lib/neo4j/import/intotx.csv', 'w+')\n",
    "    writerfromin = csv.writer(filefromin)\n",
    "\n",
    "t = time.time()\n",
    "\n",
    "for blockno in range(319,330): \n",
    "    #300 351\n",
    "    #all: 212,408+1\n",
    "    #AshleyMadison: 319-329 (Block height range: 369636-373196, time: 2015-08-13 02:34:45 to 2015-09-05 22:19:45 (UTC+0))\n",
    "    if blockno % 10 == 2:   \n",
    "        print('block:'), print(blockno)\n",
    "    with open('/media/elise/linux-data/DataforAnalysis/BitCoin/Bitcoin2015/blk00%d.txt' %blockno, 'r') as csvfile:\n",
    "        amounts = []\n",
    "        reader = csv.reader(csvfile, delimiter=',')     \n",
    "        for row in reader:\n",
    "            \n",
    "            #counts no of transactions\n",
    "            txnb = txnb + 1\n",
    "            #extracts the hash and the date\n",
    "            txhash = row[0]\n",
    "            txdate = row[1]\n",
    "            #this removes the transaction time, and keeps the day\n",
    "            txday = row[1][0:10]\n",
    "            #transactions per day\n",
    "            if txday in perday.keys():\n",
    "                perday[txday] = perday[txday] + 1\n",
    "            else:\n",
    "                perday[txday] = 1\n",
    "                  \n",
    "            #extracts the input number     \n",
    "            noinputs = int(row[2])\n",
    "            colidx = 3\n",
    "            inputs = []\n",
    "            for col in range(noinputs):\n",
    "                #extracts the data related to input\n",
    "                inputs.append([row[colidx],row[colidx+1]])\n",
    "                colidx = colidx + 2\n",
    "            \n",
    "            #extracts the output number \n",
    "            nooutputs = int(row[colidx])\n",
    "            colidx = colidx + 1\n",
    "            outputs = []\n",
    "            #counts no of multi input transactions\n",
    "            if noinputs > 1 and nooutputs > 2:\n",
    "                multinb = multinb + 1\n",
    "            for col in range(nooutputs):\n",
    "                #extracts the data related to output\n",
    "                outputs.append([row[colidx],row[colidx+2]])\n",
    "                txamount = float(row[colidx+2].strip('BTC '))\n",
    "                totalamount = totalamount + txamount\n",
    "                amounts.append(txamount)\n",
    "                colidx = colidx + 3   \n",
    "                       \n",
    "            if writecsv == 1:\n",
    "                #write in csv \n",
    "                #SGT into epoch\n",
    "                sd = txdate.split(\" \")\n",
    "                st = sd[3].split(\":\")\n",
    "                txepoch = datetime.datetime(int(sd[5]),int(cal[sd[1]]),int(sd[2]),int(st[0]),int(st[1]),int(st[2])).timestamp()-7*60*60\n",
    "                #write tx\n",
    "                #txhash+\",\"+str(txepoch)+\",tx\\r\\n\"\n",
    "                writertx.writerow([txhash,str(txepoch),'tx'])\n",
    "            \n",
    "                for j in range(nooutputs): \n",
    "                    #write out\n",
    "                    #txhash+\"@\"+str(j)+\",\"+outputs[j][0]+\",out\\r\\n\"\n",
    "                    writerout.writerow([txhash+\"@\"+str(j),outputs[j][0],'out'])\n",
    "                    writertoout.writerow([txhash,outputs[j][1].strip('BTC '),txhash+\"@\"+str(j),'has output'])\n",
    "                \n",
    "                for i in range(noinputs):\n",
    "                    #write in\n",
    "                    #inputs[i][0]+\"@\"+inputs[i][1]+\",\"+txhash+\",\"+\"is input \\r\\n\"\n",
    "                    #writerout.writerow([inputs[i][0]+\"@\"+inputs[i][1],'NKY','out'])\n",
    "                    writerfromin.writerow([inputs[i][0]+\"@\"+inputs[i][1],txhash,'is input']) \n",
    "    \n",
    "            if txnb % 2000 == 1:         \n",
    "                #create a histogram from the given block    \n",
    "                htemp, jnk = np.histogram(amounts, mybins)\n",
    "                myhist += htemp\n",
    "                amounts = []\n",
    "                \n",
    "print(time.time() - t)   \n",
    "\n",
    "if writecsv == 1:\n",
    "    filetx.close()\n",
    "    fileout.close() \n",
    "    filetoout.close() \n",
    "    filefromin.close()"
   ]
  },
  {
   "cell_type": "markdown",
   "metadata": {},
   "source": [
    "Next, we perform the upload.\n",
    "\n",
    "* The path for neo4j is /usr/bin/neo4j, this is to know how to call the import tool.\n",
    "* Then the path for the files is relative, run this command within the import directory. \n",
    "* The database shoud not be started to run this command. \n",
    "* Make sure permissions are set right for debug.log and also for the databases directory.\n",
    "* There should be no database for this to work, if there is one, go into data/databases and remove the directory graph.db (alternatively, rename it, in particular if one wishes to use several dbs).\n",
    "* If more memory is needed, got into /etc/neo4j/neo4j.conf and change the memory parameters, e.g. increase dbms.memory.heap.intial_size = 1 GB and dmbs.memory.heap.max.size = 1 GB (use same no for both). For running the database after upload, set the original setting where both quantities are commented back.\n",
    "* To check that the database is running fine, use /usr/bin/neo4j console.\n",
    "\n",
    "Run the command below in a terminal."
   ]
  },
  {
   "cell_type": "markdown",
   "metadata": {
    "collapsed": true
   },
   "source": [
    "<div style=\"background-color:rgba(128, 0, 0, 0.1); text-align:left; vertical-align: middle; padding:20px 0;\">    \n",
    "/usr/bin/neo4j-admin import --nodes \"headers_out.csv,out.csv\" --ignore-duplicate-nodes  --nodes \"headers_tx.csv,tx.csv\"  --relationships \"headers_txtoout.csv,txtoout.csv\" --relationships \"headers_intotx.csv,intotx.csv\" --ignore-missing-nodes\n",
    "\n",
    "</div>"
   ]
  },
  {
   "cell_type": "markdown",
   "metadata": {},
   "source": [
    "Some Stats\n",
    "----------\n",
    "\n",
    "We just look at some stats."
   ]
  },
  {
   "cell_type": "code",
   "execution_count": 5,
   "metadata": {},
   "outputs": [
    {
     "name": "stdout",
     "output_type": "stream",
     "text": [
      "Number of transactions:\n",
      "2629791\n",
      "Number of multi-input transactions:\n",
      "218512\n",
      "Total amount of transactions:\n",
      "31922246.58596681\n"
     ]
    },
    {
     "data": {
      "image/png": "[encoded data removed]",
      "text/plain": [
       "<Figure size 432x288 with 1 Axes>"
      ]
     },
     "metadata": {
      "needs_background": "light"
     },
     "output_type": "display_data"
    },
    {
     "data": {
      "image/png": "[encoded data removed]",
      "text/plain": [
       "<Figure size 432x288 with 1 Axes>"
      ]
     },
     "metadata": {
      "needs_background": "light"
     },
     "output_type": "display_data"
    }
   ],
   "source": [
    "import matplotlib.pyplot as plt\n",
    "import numpy as np\n",
    "\n",
    "print('Number of transactions:'), print(txnb)   \n",
    "print('Number of multi-input transactions:'), print(multinb)  \n",
    "print('Total amount of transactions:'), print(totalamount)  \n",
    "\n",
    "# save data for futher usage\n",
    "# np.save('perday300-350.npy', perday) \n",
    "# np.save('myhist300-350.npy', myhist)\n",
    "\n",
    "#plot the number of transactions per day\n",
    "plt.bar(range(len(perday)), perday.values(), align='center')\n",
    "plt.xticks(range(len(perday)), list(perday.keys()))\n",
    "plt.show()\n",
    "\n",
    "#plot the amounts\n",
    "mybins = [0,0.05,0.1,0.15,0.2,0.3,0.4,0.5,0.6,0.8,1,1.5,2,3,4,5,6,4000,10000]\n",
    "plt.bar(range(len(myhist)), myhist, width = 0.8, color = 'red') \n",
    "bars = [str(x) for x in mybins[1:]]\n",
    "plt.xticks(range(len(myhist)), bars)\n",
    "plt.show()"
   ]
  },
  {
   "cell_type": "markdown",
   "metadata": {},
   "source": [
    "Stats for the whole year, for information, are:\n",
    "* Number of transactions:\n",
    "46279742\n",
    "* Number of multi-input transactions:\n",
    "19656516\n",
    "* Total amount of transactions:\n",
    "553232801.0458639\n"
   ]
  },
  {
   "cell_type": "markdown",
   "metadata": {},
   "source": [
    "Some queries\n",
    "-------------\n",
    "\n",
    "This counts the number of transactions."
   ]
  },
  {
   "cell_type": "markdown",
   "metadata": {},
   "source": [
    "<div style=\"background-color:rgba(128, 0, 0, 0.1); text-align:left; vertical-align: middle; padding:20px 0;\">\n",
    "\n",
    "MATCH (n:tx) return count(n)\n",
    "\n",
    "</div>"
   ]
  },
  {
   "cell_type": "markdown",
   "metadata": {},
   "source": [
    "This returns neighbours at distance 1 from a given node."
   ]
  },
  {
   "cell_type": "markdown",
   "metadata": {},
   "source": [
    "<div style=\"background-color:rgba(128, 0, 0, 0.1); text-align:left; vertical-align: middle; padding:20px 0;\">\n",
    "\n",
    "MATCH(n:out)-[*..1]-(m)     \n",
    "WHERE n.outid='cd8c9ef95a9d69be95626ee0568fb7c000c1e08ea7d338fa50882875663ba249@0'     \n",
    "RETURN n,m\n",
    "\n",
    "</div>"
   ]
  }
 ],
 "metadata": {
  "kernelspec": {
   "display_name": "Python 3",
   "language": "python",
   "name": "python3"
  },
  "language_info": {
   "codemirror_mode": {
    "name": "ipython",
    "version": 3
   },
   "file_extension": ".py",
   "mimetype": "text/x-python",
   "name": "python",
   "nbconvert_exporter": "python",
   "pygments_lexer": "ipython3",
   "version": "3.6.6"
  }
 },
 "nbformat": 4,
 "nbformat_minor": 2
}
